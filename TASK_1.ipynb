{
  "nbformat": 4,
  "nbformat_minor": 0,
  "metadata": {
    "colab": {
      "name": "TASK 1.ipynb",
      "provenance": [],
      "collapsed_sections": [],
      "authorship_tag": "ABX9TyNkTT4LrHAPo563CjDqtGpD",
      "include_colab_link": true
    },
    "kernelspec": {
      "name": "python3",
      "display_name": "Python 3"
    }
  },
  "cells": [
    {
      "cell_type": "markdown",
      "metadata": {
        "id": "view-in-github",
        "colab_type": "text"
      },
      "source": [
        "<a href=\"https://colab.research.google.com/github/mondtorsha/DSBA-INTERN-at-TSF/blob/main/TASK_1.ipynb\" target=\"_parent\"><img src=\"https://colab.research.google.com/assets/colab-badge.svg\" alt=\"Open In Colab\"/></a>"
      ]
    },
    {
      "cell_type": "markdown",
      "metadata": {
        "id": "7RqqNvKw62IB"
      },
      "source": [
        "# **The Spark Foundation**\r\n",
        "# *Name- Torsha Mondal* \r\n",
        "\r\n",
        "# **Task 1 : Prediction Using Supervised Machine Learning**\r\n",
        "\r\n",
        "This regression task to predict the percentage of marks that a student is expected to score based upon the number of hours they studied. This is a simple linear regression task as it involves just two variables."
      ]
    },
    {
      "cell_type": "code",
      "metadata": {
        "id": "rwOW3mcw0Dpf"
      },
      "source": [
        "#import  some of the necessary libraries\r\n",
        "import pandas as pd\r\n",
        "import numpy as np  \r\n",
        "import matplotlib.pyplot as plt  \r\n",
        "%matplotlib inline"
      ],
      "execution_count": null,
      "outputs": []
    },
    {
      "cell_type": "code",
      "metadata": {
        "colab": {
          "base_uri": "https://localhost:8080/",
          "height": 376
        },
        "id": "kkA2Oo8s0vgm",
        "outputId": "784b992e-c875-4711-dcc1-ba3fcaa22b1a"
      },
      "source": [
        "# reading the data from remote link\r\n",
        "s_data = pd.read_csv(\"http://bit.ly/w-data\")\r\n",
        "print(\"Data imported successfully\")\r\n",
        "\r\n",
        "s_data.head(10)"
      ],
      "execution_count": null,
      "outputs": [
        {
          "output_type": "stream",
          "text": [
            "Data imported successfully\n"
          ],
          "name": "stdout"
        },
        {
          "output_type": "execute_result",
          "data": {
            "text/html": [
              "<div>\n",
              "<style scoped>\n",
              "    .dataframe tbody tr th:only-of-type {\n",
              "        vertical-align: middle;\n",
              "    }\n",
              "\n",
              "    .dataframe tbody tr th {\n",
              "        vertical-align: top;\n",
              "    }\n",
              "\n",
              "    .dataframe thead th {\n",
              "        text-align: right;\n",
              "    }\n",
              "</style>\n",
              "<table border=\"1\" class=\"dataframe\">\n",
              "  <thead>\n",
              "    <tr style=\"text-align: right;\">\n",
              "      <th></th>\n",
              "      <th>Hours</th>\n",
              "      <th>Scores</th>\n",
              "    </tr>\n",
              "  </thead>\n",
              "  <tbody>\n",
              "    <tr>\n",
              "      <th>0</th>\n",
              "      <td>2.5</td>\n",
              "      <td>21</td>\n",
              "    </tr>\n",
              "    <tr>\n",
              "      <th>1</th>\n",
              "      <td>5.1</td>\n",
              "      <td>47</td>\n",
              "    </tr>\n",
              "    <tr>\n",
              "      <th>2</th>\n",
              "      <td>3.2</td>\n",
              "      <td>27</td>\n",
              "    </tr>\n",
              "    <tr>\n",
              "      <th>3</th>\n",
              "      <td>8.5</td>\n",
              "      <td>75</td>\n",
              "    </tr>\n",
              "    <tr>\n",
              "      <th>4</th>\n",
              "      <td>3.5</td>\n",
              "      <td>30</td>\n",
              "    </tr>\n",
              "    <tr>\n",
              "      <th>5</th>\n",
              "      <td>1.5</td>\n",
              "      <td>20</td>\n",
              "    </tr>\n",
              "    <tr>\n",
              "      <th>6</th>\n",
              "      <td>9.2</td>\n",
              "      <td>88</td>\n",
              "    </tr>\n",
              "    <tr>\n",
              "      <th>7</th>\n",
              "      <td>5.5</td>\n",
              "      <td>60</td>\n",
              "    </tr>\n",
              "    <tr>\n",
              "      <th>8</th>\n",
              "      <td>8.3</td>\n",
              "      <td>81</td>\n",
              "    </tr>\n",
              "    <tr>\n",
              "      <th>9</th>\n",
              "      <td>2.7</td>\n",
              "      <td>25</td>\n",
              "    </tr>\n",
              "  </tbody>\n",
              "</table>\n",
              "</div>"
            ],
            "text/plain": [
              "   Hours  Scores\n",
              "0    2.5      21\n",
              "1    5.1      47\n",
              "2    3.2      27\n",
              "3    8.5      75\n",
              "4    3.5      30\n",
              "5    1.5      20\n",
              "6    9.2      88\n",
              "7    5.5      60\n",
              "8    8.3      81\n",
              "9    2.7      25"
            ]
          },
          "metadata": {
            "tags": []
          },
          "execution_count": 3
        }
      ]
    },
    {
      "cell_type": "markdown",
      "metadata": {
        "id": "S1nXP4qs-enL"
      },
      "source": [
        "## **Data Visualiztion I**\r\n",
        "\r\n",
        "To understand the relation between the two variables the data is visualized  by plotting them in a 2-D graph "
      ]
    },
    {
      "cell_type": "code",
      "metadata": {
        "colab": {
          "base_uri": "https://localhost:8080/",
          "height": 300
        },
        "id": "MywpcPxe1Oxc",
        "outputId": "816e0d04-3f35-40f5-8777-5bc1bdca64e2"
      },
      "source": [
        "# Plotting the data\r\n",
        "s_data.plot(x='Hours', y='Scores', style='o', alpha=0.8)  \r\n",
        "plt.title('Hours vs Percentage', size=15)  \r\n",
        "plt.xlabel('Hours Studied', size=12)  \r\n",
        "plt.ylabel('Percentage Score', size=12)\r\n",
        "plt.grid(True)  \r\n",
        "plt.show()"
      ],
      "execution_count": null,
      "outputs": [
        {
          "output_type": "display_data",
          "data": {
            "image/png": "[encoded data removed]",
            "text/plain": [
              "<Figure size 432x288 with 1 Axes>"
            ]
          },
          "metadata": {
            "tags": [],
            "needs_background": "light"
          }
        }
      ]
    },
    {
      "cell_type": "markdown",
      "metadata": {
        "id": "k2PjBB3F_5HS"
      },
      "source": [
        "**From the graph above, it can be clearly observe that there is a positive linear relation between the number of hours studied and percentage of score.**"
      ]
    },
    {
      "cell_type": "markdown",
      "metadata": {
        "id": "ROk4nUP2Acge"
      },
      "source": [
        "# **Pre-Processing the data**\r\n",
        " To pre-process the data for training and testing.\r\n",
        "\r\n",
        "**Firstly**, the data is divided in two parts namely- X as input (feature) and y as output (target)\r\n",
        " \r\n",
        "**Secondly**, they are then split in to train, test modules. \r\n",
        "\r\n"
      ]
    },
    {
      "cell_type": "code",
      "metadata": {
        "id": "GWffVk-K81Hl"
      },
      "source": [
        "# pre-process the data\r\n",
        "X = s_data.iloc[:, :1].values\r\n",
        "y = s_data.iloc[:, -1].values\r\n"
      ],
      "execution_count": null,
      "outputs": []
    },
    {
      "cell_type": "code",
      "metadata": {
        "id": "F_ViHVIF7EgA"
      },
      "source": [
        "# Spliting the data into 80% for training and 20% for testing  \r\n",
        "from sklearn.model_selection import train_test_split\r\n",
        "X_train, X_test, y_train, y_test= train_test_split(X, y, test_size= 0.2, random_state=0)\r\n"
      ],
      "execution_count": null,
      "outputs": []
    },
    {
      "cell_type": "markdown",
      "metadata": {
        "id": "kVKld0OmEAvH"
      },
      "source": [
        "# **Training the Model**\r\n",
        "\r\n",
        "A Simple Linear Regression Model is chosen for training after observing the trend of the data. \r\n"
      ]
    },
    {
      "cell_type": "code",
      "metadata": {
        "colab": {
          "base_uri": "https://localhost:8080/"
        },
        "id": "QlbI5xyJ-AEs",
        "outputId": "5be03d8f-415f-44eb-97e0-e61bd9d045d6"
      },
      "source": [
        "# training the model\r\n",
        "from sklearn.linear_model import LinearRegression\r\n",
        "linreg=LinearRegression()\r\n",
        "linreg.fit(X_train, y_train)\r\n",
        "print('linear model coeff (w): {}'.format(linreg.coef_))\r\n",
        "print('linear model intercept (b): {:.3f}'. format(linreg.intercept_))\r\n",
        "\r\n",
        "print(\"Training complete.\")"
      ],
      "execution_count": null,
      "outputs": [
        {
          "output_type": "stream",
          "text": [
            "linear model coeff (w): [9.91065648]\n",
            "linear model intercept (b): 2.018\n",
            "Training complete.\n"
          ],
          "name": "stdout"
        }
      ]
    },
    {
      "cell_type": "markdown",
      "metadata": {
        "id": "G_SxRpZVFcBY"
      },
      "source": [
        "# **Data Visualization II**\r\n",
        "\r\n",
        "To observe how well the model fits the training data we plot the regression model on the  given data."
      ]
    },
    {
      "cell_type": "code",
      "metadata": {
        "id": "cAJGKcXmB9Ht",
        "colab": {
          "base_uri": "https://localhost:8080/",
          "height": 300
        },
        "outputId": "5735d51a-aa80-41bf-deb3-ecea4008ea45"
      },
      "source": [
        "#plotting the regression model\r\n",
        "plt.figure(figsize=(5,4))\r\n",
        "plt.scatter(X, y, marker='o', alpha=0.8, s=50)\r\n",
        "plt.plot(X, linreg.coef_*X+ linreg.intercept_, 'r-')\r\n",
        "plt.title('Hours vs Percentage', size=15)  \r\n",
        "plt.xlabel('Hours Studied', size=12)  \r\n",
        "plt.ylabel('Percentage Score', size=12)\r\n",
        "plt.grid(True)  \r\n",
        "plt.show()\r\n",
        "\r\n"
      ],
      "execution_count": null,
      "outputs": [
        {
          "output_type": "display_data",
          "data": {
            "image/png": "[encoded data removed]",
            "text/plain": [
              "<Figure size 360x288 with 1 Axes>"
            ]
          },
          "metadata": {
            "tags": [],
            "needs_background": "light"
          }
        }
      ]
    },
    {
      "cell_type": "markdown",
      "metadata": {
        "id": "NTOxEkH3GCQv"
      },
      "source": [
        "**The Linear Regression Model fits the data satisfactorily.**"
      ]
    },
    {
      "cell_type": "markdown",
      "metadata": {
        "id": "Pv_Xox9nGqa-"
      },
      "source": [
        "## **Making Prediction**\r\n",
        "\r\n",
        "The model  is now used for making predictions."
      ]
    },
    {
      "cell_type": "code",
      "metadata": {
        "colab": {
          "base_uri": "https://localhost:8080/"
        },
        "id": "J8cT5Q4Clr2P",
        "outputId": "ffef8dc1-1066-45da-9a7a-5ebd2d459cc3"
      },
      "source": [
        "print(X_test) # test data\r\n",
        "y_pred=linreg.predict(X_test) # making Prediction\r\n"
      ],
      "execution_count": null,
      "outputs": [
        {
          "output_type": "stream",
          "text": [
            "[[1.5]\n",
            " [3.2]\n",
            " [7.4]\n",
            " [2.5]\n",
            " [5.9]]\n"
          ],
          "name": "stdout"
        }
      ]
    },
    {
      "cell_type": "code",
      "metadata": {
        "colab": {
          "base_uri": "https://localhost:8080/",
          "height": 204
        },
        "id": "kjPqXUV_oGYo",
        "outputId": "20aa6bf9-5015-4313-a7ba-0ded786c94d2"
      },
      "source": [
        "# Compare Actual vs Predict\r\n",
        "df=pd.DataFrame({\"Actual\": y_test, \"Predict\": y_pred})\r\n",
        "df"
      ],
      "execution_count": null,
      "outputs": [
        {
          "output_type": "execute_result",
          "data": {
            "text/html": [
              "<div>\n",
              "<style scoped>\n",
              "    .dataframe tbody tr th:only-of-type {\n",
              "        vertical-align: middle;\n",
              "    }\n",
              "\n",
              "    .dataframe tbody tr th {\n",
              "        vertical-align: top;\n",
              "    }\n",
              "\n",
              "    .dataframe thead th {\n",
              "        text-align: right;\n",
              "    }\n",
              "</style>\n",
              "<table border=\"1\" class=\"dataframe\">\n",
              "  <thead>\n",
              "    <tr style=\"text-align: right;\">\n",
              "      <th></th>\n",
              "      <th>Actual</th>\n",
              "      <th>Predict</th>\n",
              "    </tr>\n",
              "  </thead>\n",
              "  <tbody>\n",
              "    <tr>\n",
              "      <th>0</th>\n",
              "      <td>20</td>\n",
              "      <td>16.884145</td>\n",
              "    </tr>\n",
              "    <tr>\n",
              "      <th>1</th>\n",
              "      <td>27</td>\n",
              "      <td>33.732261</td>\n",
              "    </tr>\n",
              "    <tr>\n",
              "      <th>2</th>\n",
              "      <td>69</td>\n",
              "      <td>75.357018</td>\n",
              "    </tr>\n",
              "    <tr>\n",
              "      <th>3</th>\n",
              "      <td>30</td>\n",
              "      <td>26.794801</td>\n",
              "    </tr>\n",
              "    <tr>\n",
              "      <th>4</th>\n",
              "      <td>62</td>\n",
              "      <td>60.491033</td>\n",
              "    </tr>\n",
              "  </tbody>\n",
              "</table>\n",
              "</div>"
            ],
            "text/plain": [
              "   Actual    Predict\n",
              "0      20  16.884145\n",
              "1      27  33.732261\n",
              "2      69  75.357018\n",
              "3      30  26.794801\n",
              "4      62  60.491033"
            ]
          },
          "metadata": {
            "tags": []
          },
          "execution_count": 43
        }
      ]
    },
    {
      "cell_type": "markdown",
      "metadata": {
        "id": "m2f-ko6fIVQH"
      },
      "source": [
        "## **Evaluating the Model**\r\n",
        "\r\n",
        "For evaluating the model's prediction three evaluating metrices are used namely:\r\n",
        "\r\n",
        "\r\n",
        "*   mean_absolute_error (absolute difference of target & predicted values)\r\n",
        "*   mean_squared_error (squared difference of target & predicted values)\r\n",
        "\r\n",
        "\r\n",
        "*   R2 score (computes how well future instances will be predicted), \r\n",
        "best possible score: 1.0 and constant possible score: 0.0\r\n",
        "\r\n",
        "\r\n",
        "\r\n",
        "\r\n",
        "\r\n",
        "\r\n"
      ]
    },
    {
      "cell_type": "code",
      "metadata": {
        "colab": {
          "base_uri": "https://localhost:8080/"
        },
        "id": "a1q_USMdqv41",
        "outputId": "b15c4a00-a509-42dd-b826-5277e0c1a4f6"
      },
      "source": [
        "from sklearn.metrics import mean_absolute_error, r2_score, mean_squared_error\r\n",
        "\r\n",
        "print('Mean Absolute Error: {:.2f}'.format(mean_absolute_error(y_test, y_pred)))\r\n",
        "print('Mean Squared Error: {:.2f}'.format(mean_squared_error(y_test, y_pred)))\r\n",
        "print('R-squared score (training): {:.3f}'.format(linreg.score(X_train, y_train)))\r\n",
        "print('R-squared score (test): {:.3f}'.format(linreg.score(X_test, y_test)))"
      ],
      "execution_count": null,
      "outputs": [
        {
          "output_type": "stream",
          "text": [
            "Mean Absolute Error: 4.18\n",
            "Mean Squared Error: 21.60\n",
            "R-squared score (training): 0.952\n",
            "R-squared score (test): 0.945\n"
          ],
          "name": "stdout"
        }
      ]
    },
    {
      "cell_type": "markdown",
      "metadata": {
        "id": "usM9umw8UT3x"
      },
      "source": [
        "**Hence as the R-squared score of both the training and testing model is near to the best value: 1.0 so it can be concluded that the model fits  very well to the data.**"
      ]
    },
    {
      "cell_type": "markdown",
      "metadata": {
        "id": "MVBJS2RPT7Dw"
      },
      "source": [
        "# **What will be predicted score if a student studies for 9.25 hrs/ day?**"
      ]
    },
    {
      "cell_type": "code",
      "metadata": {
        "colab": {
          "base_uri": "https://localhost:8080/"
        },
        "id": "ikEerWHV0dhq",
        "outputId": "4ae9f4c5-3883-4833-f967-d4bd4db70e83"
      },
      "source": [
        "#predicting  score\r\n",
        "hours=[9.25]\r\n",
        "own_data=linreg.predict([hours])\r\n",
        "print(\"No. of Hours = {}\".format(hours))\r\n",
        "print(\"Predicted Score = {:.3f}\".format(own_data[0]))"
      ],
      "execution_count": null,
      "outputs": [
        {
          "output_type": "stream",
          "text": [
            "No. of Hours = [9.25]\n",
            "Predicted Score = 93.692\n"
          ],
          "name": "stdout"
        }
      ]
    },
    {
      "cell_type": "markdown",
      "metadata": {
        "id": "_8jKsYLiVO40"
      },
      "source": [
        "**Thus, the predicted score for a student studing for 9.25hrs/day is 93.692.**"
      ]
    }
  ]
}